{
 "cells": [
  {
   "cell_type": "markdown",
   "metadata": {
    "toc": "true"
   },
   "source": [
    "# Table of Contents\n",
    " <p><div class=\"lev1 toc-item\"><a href=\"#Demonstrations-of-Single-Player-Simulations-for-Non-Stationary-Bandits\" data-toc-modified-id=\"Demonstrations-of-Single-Player-Simulations-for-Non-Stationary-Bandits-1\"><span class=\"toc-item-num\">1&nbsp;&nbsp;</span>Demonstrations of Single-Player Simulations for Non-Stationary-Bandits</a></div><div class=\"lev2 toc-item\"><a href=\"#Creating-the-problem\" data-toc-modified-id=\"Creating-the-problem-11\"><span class=\"toc-item-num\">1.1&nbsp;&nbsp;</span>Creating the problem</a></div><div class=\"lev3 toc-item\"><a href=\"#Parameters-for-the-simulation\" data-toc-modified-id=\"Parameters-for-the-simulation-111\"><span class=\"toc-item-num\">1.1.1&nbsp;&nbsp;</span>Parameters for the simulation</a></div><div class=\"lev3 toc-item\"><a href=\"#Two-MAB-problems-with-Bernoulli-arms-and-piecewise-stationary-means\" data-toc-modified-id=\"Two-MAB-problems-with-Bernoulli-arms-and-piecewise-stationary-means-112\"><span class=\"toc-item-num\">1.1.2&nbsp;&nbsp;</span>Two MAB problems with Bernoulli arms and piecewise stationary means</a></div><div class=\"lev3 toc-item\"><a href=\"#Some-MAB-algorithms\" data-toc-modified-id=\"Some-MAB-algorithms-113\"><span class=\"toc-item-num\">1.1.3&nbsp;&nbsp;</span>Some MAB algorithms</a></div><div class=\"lev4 toc-item\"><a href=\"#Parameters-of-the-algorithms\" data-toc-modified-id=\"Parameters-of-the-algorithms-1131\"><span class=\"toc-item-num\">1.1.3.1&nbsp;&nbsp;</span>Parameters of the algorithms</a></div><div class=\"lev4 toc-item\"><a href=\"#Algorithms\" data-toc-modified-id=\"Algorithms-1132\"><span class=\"toc-item-num\">1.1.3.2&nbsp;&nbsp;</span>Algorithms</a></div><div class=\"lev2 toc-item\"><a href=\"#Checking-if-the-problems-are-too-hard-or-not\" data-toc-modified-id=\"Checking-if-the-problems-are-too-hard-or-not-12\"><span class=\"toc-item-num\">1.2&nbsp;&nbsp;</span>Checking if the problems are too hard or not</a></div><div class=\"lev2 toc-item\"><a href=\"#Creating-the-Evaluator-object\" data-toc-modified-id=\"Creating-the-Evaluator-object-13\"><span class=\"toc-item-num\">1.3&nbsp;&nbsp;</span>Creating the <code>Evaluator</code> object</a></div><div class=\"lev2 toc-item\"><a href=\"#Solving-the-problem\" data-toc-modified-id=\"Solving-the-problem-14\"><span class=\"toc-item-num\">1.4&nbsp;&nbsp;</span>Solving the problem</a></div><div class=\"lev3 toc-item\"><a href=\"#First-problem\" data-toc-modified-id=\"First-problem-141\"><span class=\"toc-item-num\">1.4.1&nbsp;&nbsp;</span>First problem</a></div><div class=\"lev3 toc-item\"><a href=\"#Second-problem\" data-toc-modified-id=\"Second-problem-142\"><span class=\"toc-item-num\">1.4.2&nbsp;&nbsp;</span>Second problem</a></div><div class=\"lev2 toc-item\"><a href=\"#Plotting-the-results\" data-toc-modified-id=\"Plotting-the-results-15\"><span class=\"toc-item-num\">1.5&nbsp;&nbsp;</span>Plotting the results</a></div><div class=\"lev3 toc-item\"><a href=\"#First-problem-with-change-on-only-one-arm-(Local-Restart-should-be-better)\" data-toc-modified-id=\"First-problem-with-change-on-only-one-arm-(Local-Restart-should-be-better)-151\"><span class=\"toc-item-num\">1.5.1&nbsp;&nbsp;</span>First problem with change on only one arm (Local Restart should be better)</a></div><div class=\"lev3 toc-item\"><a href=\"#Second-problem-with-changes-on-all-arms-(Global-restart-should-be-better)\" data-toc-modified-id=\"Second-problem-with-changes-on-all-arms-(Global-restart-should-be-better)-152\"><span class=\"toc-item-num\">1.5.2&nbsp;&nbsp;</span>Second problem with changes on all arms (Global restart should be better)</a></div>"
   ]
  },
  {
   "cell_type": "markdown",
   "metadata": {},
   "source": [
    "---\n",
    "# Demonstrations of Single-Player Simulations for Non-Stationary-Bandits\n",
    "\n",
    "This notebook shows how to 1) **define**, 2) **launch**, and 3) **plot the results** of numerical simulations of piecewise stationary (multi-armed) bandits problems using my framework [SMPyBandits](https://github.com/SMPyBandits/SMPyBandits).\n",
    "For more details on the maths behind this problem, see this page in the documentation: [SMPyBandits.GitHub.io/NonStationaryBandits.html](https://smpybandits.github.io/NonStationaryBandits.html).\n",
    "\n",
    "First, be sure to be in the main folder, or to have [SMPyBandits](https://github.com/SMPyBandits/SMPyBandits) installed, and import `Evaluator` from `Environment` package.\n",
    "\n",
    "<span style=\"color:red\">WARNING</span>\n",
    "If you are running this notebook locally, in the [`notebooks`](https://github.com/SMPyBandits/SMPyBandits/tree/master/notebooks) folder in the [`SMPyBandits`](https://github.com/SMPyBandits/SMPyBandits/) source, you need to do:"
   ]
  },
  {
   "cell_type": "code",
   "execution_count": 7,
   "metadata": {},
   "outputs": [
    {
     "name": "stdout",
     "output_type": "stream",
     "text": [
      "Using 4 jobs in parallel...\n",
      "Using T = 3000, and N = 100 repetitions\n"
     ]
    },
    {
     "ename": "FileNotFoundError",
     "evalue": "[Errno 2] No such file or directory: './saved_problems/F20/10/pickle/0.pickle'",
     "output_type": "error",
     "traceback": [
      "\u001b[0;31m---------------------------------------------------------------------------\u001b[0m",
      "\u001b[0;31mFileNotFoundError\u001b[0m                         Traceback (most recent call last)",
      "\u001b[0;32m<ipython-input-7-d7fa7f464a0d>\u001b[0m in \u001b[0;36m<module>\u001b[0;34m\u001b[0m\n\u001b[1;32m     37\u001b[0m \u001b[0;32mfrom\u001b[0m \u001b[0mSMPyBandits\u001b[0m\u001b[0;34m.\u001b[0m\u001b[0mArms\u001b[0m\u001b[0;34m.\u001b[0m\u001b[0mProblem\u001b[0m \u001b[0;32mimport\u001b[0m \u001b[0mProblem\u001b[0m\u001b[0;34m\u001b[0m\u001b[0;34m\u001b[0m\u001b[0m\n\u001b[1;32m     38\u001b[0m \u001b[0mENVIRONMENTS\u001b[0m \u001b[0;34m=\u001b[0m \u001b[0;34m[\u001b[0m\u001b[0;34m]\u001b[0m\u001b[0;34m\u001b[0m\u001b[0;34m\u001b[0m\u001b[0m\n\u001b[0;32m---> 39\u001b[0;31m \u001b[0marms\u001b[0m \u001b[0;34m=\u001b[0m \u001b[0mgenerate_Op_cmaes_problem\u001b[0m\u001b[0;34m(\u001b[0m\u001b[0mproblem\u001b[0m\u001b[0;34m,\u001b[0m \u001b[0mdimension\u001b[0m\u001b[0;34m,\u001b[0m \u001b[0mn_arms\u001b[0m\u001b[0;34m,\u001b[0m \u001b[0mn_horizon\u001b[0m\u001b[0;34m,\u001b[0m \u001b[0mload\u001b[0m\u001b[0;34m=\u001b[0m\u001b[0;32mTrue\u001b[0m\u001b[0;34m,\u001b[0m \u001b[0msave\u001b[0m\u001b[0;34m=\u001b[0m\u001b[0;32mTrue\u001b[0m\u001b[0;34m)\u001b[0m\u001b[0;34m\u001b[0m\u001b[0;34m\u001b[0m\u001b[0m\n\u001b[0m\u001b[1;32m     40\u001b[0m \u001b[0mpath\u001b[0m \u001b[0;34m=\u001b[0m \u001b[0;34mf'./saved_problems/{problem}/{dimension}/{n_arms}/'\u001b[0m\u001b[0;34m\u001b[0m\u001b[0;34m\u001b[0m\u001b[0m\n\u001b[1;32m     41\u001b[0m \u001b[0mos\u001b[0m\u001b[0;34m.\u001b[0m\u001b[0mmakedirs\u001b[0m\u001b[0;34m(\u001b[0m\u001b[0mos\u001b[0m\u001b[0;34m.\u001b[0m\u001b[0mpath\u001b[0m\u001b[0;34m.\u001b[0m\u001b[0mdirname\u001b[0m\u001b[0;34m(\u001b[0m\u001b[0mpath\u001b[0m\u001b[0;34m)\u001b[0m\u001b[0;34m,\u001b[0m \u001b[0mexist_ok\u001b[0m\u001b[0;34m=\u001b[0m\u001b[0;32mTrue\u001b[0m\u001b[0;34m)\u001b[0m\u001b[0;34m\u001b[0m\u001b[0;34m\u001b[0m\u001b[0m\n",
      "\u001b[0;32m~/pj/Maxbandit/SMPyBandits/Arms/cma.py\u001b[0m in \u001b[0;36mgenerate_Op_cmaes_problem\u001b[0;34m(name, dimension, n_arms, budget, load, save)\u001b[0m\n\u001b[1;32m     43\u001b[0m     \u001b[0mresult\u001b[0m \u001b[0;34m=\u001b[0m \u001b[0;34m[\u001b[0m\u001b[0;34m]\u001b[0m\u001b[0;34m\u001b[0m\u001b[0;34m\u001b[0m\u001b[0m\n\u001b[1;32m     44\u001b[0m     \u001b[0;32mfor\u001b[0m \u001b[0mind\u001b[0m \u001b[0;32min\u001b[0m \u001b[0mrange\u001b[0m\u001b[0;34m(\u001b[0m\u001b[0mn_arms\u001b[0m\u001b[0;34m)\u001b[0m\u001b[0;34m:\u001b[0m\u001b[0;34m\u001b[0m\u001b[0;34m\u001b[0m\u001b[0m\n\u001b[0;32m---> 45\u001b[0;31m         \u001b[0mresult\u001b[0m\u001b[0;34m.\u001b[0m\u001b[0mappend\u001b[0m\u001b[0;34m(\u001b[0m\u001b[0mOp_cmaes\u001b[0m\u001b[0;34m(\u001b[0m\u001b[0mname\u001b[0m\u001b[0;34m,\u001b[0m \u001b[0mdimension\u001b[0m\u001b[0;34m,\u001b[0m \u001b[0mind\u001b[0m\u001b[0;34m,\u001b[0m \u001b[0mbudget\u001b[0m\u001b[0;34m,\u001b[0m \u001b[0mload\u001b[0m\u001b[0;34m,\u001b[0m \u001b[0msave\u001b[0m\u001b[0;34m)\u001b[0m\u001b[0;34m)\u001b[0m\u001b[0;34m\u001b[0m\u001b[0;34m\u001b[0m\u001b[0m\n\u001b[0m\u001b[1;32m     46\u001b[0m     \u001b[0;31m## Normalization\u001b[0m\u001b[0;34m\u001b[0m\u001b[0;34m\u001b[0m\u001b[0;34m\u001b[0m\u001b[0m\n\u001b[1;32m     47\u001b[0m     \u001b[0mmaximum\u001b[0m \u001b[0;34m=\u001b[0m \u001b[0;34m-\u001b[0m\u001b[0mnp\u001b[0m\u001b[0;34m.\u001b[0m\u001b[0minf\u001b[0m\u001b[0;34m\u001b[0m\u001b[0;34m\u001b[0m\u001b[0m\n",
      "\u001b[0;32m~/pj/Maxbandit/SMPyBandits/Arms/cma.py\u001b[0m in \u001b[0;36m__init__\u001b[0;34m(self, name, dimension, arm_id, budget, load, save)\u001b[0m\n\u001b[1;32m     86\u001b[0m         \u001b[0mos\u001b[0m\u001b[0;34m.\u001b[0m\u001b[0mmakedirs\u001b[0m\u001b[0;34m(\u001b[0m\u001b[0mos\u001b[0m\u001b[0;34m.\u001b[0m\u001b[0mpath\u001b[0m\u001b[0;34m.\u001b[0m\u001b[0mdirname\u001b[0m\u001b[0;34m(\u001b[0m\u001b[0mfilename\u001b[0m\u001b[0;34m)\u001b[0m\u001b[0;34m,\u001b[0m \u001b[0mexist_ok\u001b[0m\u001b[0;34m=\u001b[0m\u001b[0;32mTrue\u001b[0m\u001b[0;34m)\u001b[0m\u001b[0;34m\u001b[0m\u001b[0;34m\u001b[0m\u001b[0m\n\u001b[1;32m     87\u001b[0m         \u001b[0;32mif\u001b[0m \u001b[0mload\u001b[0m\u001b[0;34m:\u001b[0m\u001b[0;34m\u001b[0m\u001b[0;34m\u001b[0m\u001b[0m\n\u001b[0;32m---> 88\u001b[0;31m             \u001b[0mproblem\u001b[0m \u001b[0;34m=\u001b[0m \u001b[0mpickle\u001b[0m\u001b[0;34m.\u001b[0m\u001b[0mload\u001b[0m\u001b[0;34m(\u001b[0m\u001b[0mopen\u001b[0m\u001b[0;34m(\u001b[0m\u001b[0mfilename\u001b[0m\u001b[0;34m,\u001b[0m \u001b[0;34m'rb'\u001b[0m\u001b[0;34m)\u001b[0m\u001b[0;34m)\u001b[0m\u001b[0;34m\u001b[0m\u001b[0;34m\u001b[0m\u001b[0m\n\u001b[0m\u001b[1;32m     89\u001b[0m             \u001b[0mself\u001b[0m\u001b[0;34m.\u001b[0m\u001b[0mbest\u001b[0m \u001b[0;34m=\u001b[0m \u001b[0mnp\u001b[0m\u001b[0;34m.\u001b[0m\u001b[0marray\u001b[0m\u001b[0;34m(\u001b[0m\u001b[0mproblem\u001b[0m\u001b[0;34m)\u001b[0m\u001b[0;34m\u001b[0m\u001b[0;34m\u001b[0m\u001b[0m\n\u001b[1;32m     90\u001b[0m             \u001b[0mself\u001b[0m\u001b[0;34m.\u001b[0m\u001b[0mmean\u001b[0m \u001b[0;34m=\u001b[0m \u001b[0mnp\u001b[0m\u001b[0;34m.\u001b[0m\u001b[0marray\u001b[0m\u001b[0;34m(\u001b[0m\u001b[0mproblem\u001b[0m\u001b[0;34m)\u001b[0m\u001b[0;34m[\u001b[0m\u001b[0;34m-\u001b[0m\u001b[0;36m1\u001b[0m\u001b[0;34m]\u001b[0m\u001b[0;34m\u001b[0m\u001b[0;34m\u001b[0m\u001b[0m\n",
      "\u001b[0;31mFileNotFoundError\u001b[0m: [Errno 2] No such file or directory: './saved_problems/F20/10/pickle/0.pickle'"
     ]
    }
   ],
   "source": [
    "import sys\n",
    "import os\n",
    "sys.path.insert(0, '..')\n",
    "try:\n",
    "    import SMPyBandits\n",
    "except ImportError:\n",
    "    !pip3 install SMPyBandits\n",
    "import numpy as np\n",
    "FIGSIZE = (19.80, 10.80)\n",
    "DPI = 160\n",
    "# Large figures for pretty notebooks\n",
    "import matplotlib as mpl\n",
    "mpl.rcParams['figure.figsize'] = FIGSIZE\n",
    "mpl.rcParams['figure.dpi'] = DPI\n",
    "# Local imports\n",
    "from SMPyBandits.Environment import Evaluator, tqdm\n",
    "# Import arms\n",
    "from SMPyBandits.Arms import Op\n",
    "from SMPyBandits.Arms.cma import Op_cmaes, generate_arm_pic, generate_Op_cmaes_problem\n",
    "# Import algorithms\n",
    "from SMPyBandits.Policies import *\n",
    "\n",
    "from multiprocessing import cpu_count\n",
    "CPU_COUNT = cpu_count()\n",
    "N_JOBS = CPU_COUNT if CPU_COUNT <= 4 else CPU_COUNT - 4\n",
    "\n",
    "print(\"Using {} jobs in parallel...\".format(N_JOBS))\n",
    "problem = 'F18'\n",
    "dimension = 10\n",
    "n_arms = 100\n",
    "HORIZON = n_arms * 30\n",
    "n_horizon = HORIZON\n",
    "REPETITIONS = 100\n",
    "\n",
    "print(\"Using T = {}, and N = {} repetitions\".format(HORIZON, REPETITIONS))\n",
    "from SMPyBandits.Arms.Sampler import uniform_sampler\n",
    "from SMPyBandits.Arms.Problem import Problem\n",
    "ENVIRONMENTS = []\n",
    "arms = generate_Op_cmaes_problem(problem, dimension, n_arms, n_horizon, load=True, save=True)\n",
    "path = f'./saved_problems/{problem}/{dimension}/{n_arms}/'\n",
    "os.makedirs(os.path.dirname(path), exist_ok=True)\n",
    "generate_arm_pic(problem, dimension, n_arms)\n",
    "ENVIRONMENT_0 = {   # A simple piece-wise stationary problem\n",
    "    *arms\n",
    "}\n",
    "ENVIRONMENTS = [\n",
    "    ENVIRONMENT_0,\n",
    "]\n",
    "\n",
    "NB_ARMS = n_arms\n",
    "open('record.txt', 'w').close()\n",
    "POLICIES =      [  # XXX Regular stochastic bandits algorithms!\n",
    "                    { \"archtype\": UCBH, \"params\": { \"horizon\": HORIZON,} },\n",
    "                ] + [\n",
    "                    { \"archtype\": UCBalpha, \"params\": {} }\n",
    "                ] + [ # --- # XXX experimental other version of the sliding window algorithm, knowing the horizon\n",
    "                    { \"archtype\": SWUCBPlus, \"params\": {\n",
    "                        \"horizon\": HORIZON, \"alpha\": alpha,\n",
    "                    } }\n",
    "                    for alpha in [4.0]\n",
    "                ] + [\n",
    "                    { \"archtype\": EpsilonGreedy, \"params\": {} }\n",
    "                ] + [\n",
    "                    { \"archtype\": MaxMedian, \"params\": {\"budget\": HORIZON} }\n",
    "                ] + [\n",
    "                    { \"archtype\": Qomax_SDA, \"params\": {\"budget\": HORIZON, \"q\": 0.5} }\n",
    "                ] + [\n",
    "                    { \"archtype\": MaximumBandit, \"params\": {\"budget\": HORIZON,} }\n",
    "                ] + [\n",
    "                    { \"archtype\": Uniform, \"params\": {} }\n",
    "                ] \n",
    "# POLICIES = [\n",
    "#         { \"archtype\": MaximumBandit, \"params\": {\"budget\": HORIZON,} }\n",
    "#     ]\n",
    "# POLICIES = [\n",
    "#         { \"archtype\": Qomax_SDA, \"params\": {\"budget\": HORIZON, \"q\": 0.5} }\n",
    "#     ]\n",
    "\n",
    "configuration = {\n",
    "    # --- Duration of the experiment\n",
    "    \"horizon\": HORIZON,\n",
    "    # --- Number of repetition of the experiment (to have an average)\n",
    "    \"repetitions\": REPETITIONS,\n",
    "    # --- Parameters for the use of joblib.Parallel\n",
    "    \"n_jobs\": N_JOBS,    # = nb of CPU cores\n",
    "    \"verbosity\": 0,      # Max joblib verbosity\n",
    "    # --- Arms\n",
    "    \"environment\": ENVIRONMENTS,\n",
    "    # --- Algorithms\n",
    "    \"policies\": POLICIES,\n",
    "    # --- Random events\n",
    "    \"nb_break_points\": 0,\n",
    "    # --- Should we plot the lower-bounds or not?\n",
    "    \"plot_lowerbound\": False,  # XXX Default\n",
    "    \"path\": path,\n",
    "}\n",
    "# (almost) unique hash from the configuration\n",
    "hashvalue = abs(hash((tuple(configuration.keys()), tuple([(len(k) if isinstance(k, (dict, tuple, list)) else k) for k in configuration.values()]))))\n",
    "print(\"This configuration has a hash value = {}\".format(hashvalue))\n",
    "\n",
    "import os, os.path\n",
    "\n",
    "subfolder = \"SP__K{}_T{}_N{}__{}_algos\".format(NB_ARMS, HORIZON, REPETITIONS, len(POLICIES))\n",
    "PLOT_DIR = \"plots\"\n",
    "plot_dir = os.path.join(PLOT_DIR, subfolder)\n",
    "\n",
    "# Create the sub folder\n",
    "if os.path.isdir(plot_dir):\n",
    "    print(\"{} is already a directory here...\".format(plot_dir))\n",
    "elif os.path.isfile(plot_dir):\n",
    "    raise ValueError(\"[ERROR] {} is a file, cannot use it as a directory !\".format(plot_dir))\n",
    "else:\n",
    "    os.makedirs(plot_dir)\n",
    "\n",
    "print(\"Using sub folder = '{}' and plotting in '{}'...\".format(subfolder, plot_dir))\n",
    "mainfig = os.path.join(plot_dir, \"main\")\n",
    "print(\"Using main figure name as '{}_{}'...\".format(mainfig, hashvalue))\n",
    "\n",
    "evaluation = Evaluator(configuration)\n",
    "\n",
    "def printAll(evaluation, envId):\n",
    "    print(\"\\nGiving the vector of final regrets ...\")\n",
    "    evaluation.printLastRegrets(envId)\n",
    "    print(\"\\nGiving the final ranks ...\")\n",
    "    evaluation.printFinalRanking(envId)\n",
    "    print(\"\\nGiving the mean and std running times ...\")\n",
    "    evaluation.printRunningTimes(envId)\n",
    "    print(\"\\nGiving the mean and std memory consumption ...\")\n",
    "    evaluation.printMemoryConsumption(envId)\n",
    "\n",
    "envId = 0\n",
    "env = evaluation.envs[envId]\n",
    "\n",
    "# Evaluate just that env\n",
    "evaluation.startOneEnv(envId, env)\n",
    "\n",
    "def plotAll(evaluation, envId, mainfig=None):\n",
    "    savefig = mainfig\n",
    "    # if savefig is not None: savefig = \"{}__LastRegrets__env{}-{}\".format(mainfig, envId+1, len(evaluation.envs))\n",
    "    # print(\"\\nPlotting a boxplot of the final regrets ...\")\n",
    "    # evaluation.plotLastRegrets(envId, boxplot=True, savefig=savefig)\n",
    "\n",
    "    # if savefig is not None: savefig = \"{}__RunningTimes__env{}-{}\".format(mainfig, envId+1, len(evaluation.envs))\n",
    "    # print(\"\\nPlotting the mean and std running times ...\")\n",
    "    # evaluation.plotRunningTimes(envId, savefig=savefig)\n",
    "\n",
    "    # if savefig is not None: savefig = \"{}__MemoryConsumption__env{}-{}\".format(mainfig, envId+1, len(evaluation.envs))\n",
    "    # print(\"\\nPlotting the mean and std memory consumption ...\")\n",
    "    # evaluation.plotMemoryConsumption(envId, savefig=savefig)\n",
    "\n",
    "    # if savefig is not None: savefig = \"{}__Regrets__env{}-{}\".format(mainfig, envId+1, len(evaluation.envs))\n",
    "    # print(\"\\nPlotting the mean regrets ...\")\n",
    "    # evaluation.plotRegrets(envId, savefig=savefig)\n",
    "\n",
    "    if savefig is not None: savefig = \"{}__MeanReward__env{}-{}\".format(mainfig, envId+1, len(evaluation.envs))\n",
    "    print(\"\\nPlotting the mean rewards ...\")\n",
    "    fig = evaluation.plotRegrets(envId, meanReward=True, savefig=savefig)\n",
    "    fig.savefig(f'{path}mean.pdf')\n",
    "\n",
    "    if savefig is not None: savefig = \"{}__MaxReward__env{}-{}\".format(mainfig, envId+1, len(evaluation.envs))\n",
    "    print(\"\\nPlotting the max rewards ...\")\n",
    "    fig = evaluation.plotRegrets(envId, maxReward=True, savefig=savefig)\n",
    "    fig.savefig(f'{path}max.pdf')\n",
    "\n",
    "    # if savefig is not None: savefig = \"{}__LastRegrets__env{}-{}\".format(mainfig, envId+1, len(evaluation.envs))\n",
    "    # print(\"\\nPlotting an histogram of the final regrets ...\")\n",
    "    # evaluation.plotLastRegrets(envId, subplots=True, sharex=True, sharey=False, savefig=savefig)\n",
    "\n",
    "envId = 0\n",
    "_ = plotAll(evaluation, envId, mainfig=mainfig)"
   ]
  },
  {
   "cell_type": "code",
   "execution_count": null,
   "metadata": {},
   "outputs": [],
   "source": []
  }
 ],
 "metadata": {
  "kernelspec": {
   "display_name": "base",
   "language": "python",
   "name": "python3"
  },
  "language_info": {
   "codemirror_mode": {
    "name": "ipython",
    "version": 3
   },
   "file_extension": ".py",
   "mimetype": "text/x-python",
   "name": "python",
   "nbconvert_exporter": "python",
   "pygments_lexer": "ipython3",
   "version": "3.7.3"
  },
  "notify_time": "30",
  "toc": {
   "colors": {
    "hover_highlight": "#DAA520",
    "running_highlight": "#FF0000",
    "selected_highlight": "#FFD700"
   },
   "moveMenuLeft": true,
   "nav_menu": {
    "height": "150px",
    "width": "251px"
   },
   "navigate_menu": true,
   "number_sections": true,
   "sideBar": true,
   "threshold": 4,
   "toc_cell": true,
   "toc_position": {
    "height": "737.05px",
    "left": "0px",
    "right": "1548px",
    "top": "150.95px",
    "width": "212px"
   },
   "toc_section_display": "block",
   "toc_window_display": true
  },
  "varInspector": {
   "cols": {
    "lenName": 16,
    "lenType": 16,
    "lenVar": 40
   },
   "kernels_config": {
    "python": {
     "delete_cmd_postfix": "",
     "delete_cmd_prefix": "del ",
     "library": "var_list.py",
     "varRefreshCmd": "print(var_dic_list())"
    },
    "r": {
     "delete_cmd_postfix": ") ",
     "delete_cmd_prefix": "rm(",
     "library": "var_list.r",
     "varRefreshCmd": "cat(var_dic_list()) "
    }
   },
   "types_to_exclude": [
    "module",
    "function",
    "builtin_function_or_method",
    "instance",
    "_Feature"
   ],
   "window_display": false
  },
  "vscode": {
   "interpreter": {
    "hash": "3ba00cd5b4ee1bb8f4f6c5f1e430e74612210aeab63c3addb746c44ed8281684"
   }
  }
 },
 "nbformat": 4,
 "nbformat_minor": 2
}
